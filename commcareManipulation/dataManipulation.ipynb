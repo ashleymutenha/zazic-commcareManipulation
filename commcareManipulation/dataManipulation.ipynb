{
 "cells": [
  {
   "cell_type": "code",
   "execution_count": null,
   "id": "ac9a49fc-8055-46c0-aa30-4b2ae7a7b6de",
   "metadata": {},
   "outputs": [],
   "source": [
    "import pandas as pd\n",
    "import json\n",
    "\n",
    "dashboard = pd.ExcelFile(\"data.xlsx\")"
   ]
  },
  {
   "cell_type": "code",
   "execution_count": null,
   "id": "05354aa1-7dab-4a33-828a-e4e2f2a0422a",
   "metadata": {},
   "outputs": [],
   "source": [
    "data = pd.read_excel(dashboard,\"Forms\")\n",
    "\n",
    "aes = pd.read_excel(dashboard,\"Repeat- adverse_events\")\n",
    "\n",
    "referrals = pd.read_excel(dashboard, \"Repeat- other_...rals_in_detail\")"
   ]
  },
  {
   "cell_type": "code",
   "execution_count": null,
   "id": "fbc06e82-d63f-4d15-80e9-bdcbc268cae4",
   "metadata": {},
   "outputs": [],
   "source": [
    "data = data.fillna(0)\n",
    "\n",
    "data = data.replace('---',0)\n",
    "\n",
    "\n",
    "aes = aes.fillna(0)\n",
    "\n",
    "aes = aes.replace('---',0)\n",
    "\n",
    "\n",
    "referrals = referrals.fillna(0)\n",
    "\n",
    "referrals = referrals.replace('---',0)\n",
    "\n",
    "\n",
    "data"
   ]
  },
  {
   "cell_type": "code",
   "execution_count": null,
   "id": "d832cd9b-a598-4eab-96f4-9fae55a2f74a",
   "metadata": {},
   "outputs": [],
   "source": [
    "aes"
   ]
  },
  {
   "cell_type": "code",
   "execution_count": null,
   "id": "d2cd1634-c0cf-4fdf-a1d9-a0081463a082",
   "metadata": {},
   "outputs": [],
   "source": [
    "# Ensure Month-Year columns are strings for easy comparison\n",
    "data['Year'] = data['Year'].astype(str)\n",
    "aes['AERecordingYear'] = aes['AERecordingYear'].astype(str)\n",
    "\n",
    "data['Month'] = data['Month'].astype(str)\n",
    "aes['AERecordingMonth'] = aes['AERecordingMonth'].astype(str)\n",
    "\n",
    "# Transform df1 to include the list object\n",
    "json_data = []\n",
    "\n",
    "for _, row in data.iterrows():\n",
    "    row_data = row.to_dict()\n",
    "    \n",
    "    if row['totalAES'] >= 1:\n",
    "        # Filter df2 to find matching rows\n",
    "        recordedAEs = aes[\n",
    "            (aes['AERecordingSite'] == row['Facility']) &\n",
    "            (aes['AERecordingMonth'] == row['Month']) &\n",
    "            (aes['AERecordingYear'] == row['Year'])\n",
    "        ]\n",
    "        \n",
    "        # Add list object to the row if matches are found\n",
    "        row_data['matchingAES'] = recordedAEs.to_dict(orient='records')\n",
    "    else:\n",
    "        # Add an empty list if no matches\n",
    "        row_data['matchingAES'] = []\n",
    "\n",
    "\n",
    "    if row['totalReferralstoOtherServices'] >= 1:\n",
    "        # Filter df2 to find matching rows\n",
    "        otherReferrals = referrals[\n",
    "            (referrals['ReferralRecordingSite'] == row['Facility']) &\n",
    "            (referrals['ReferralRecordingMonth'] == row['Month']) &\n",
    "            (referrals['ReferralRecordingYear'] == row['Year'])\n",
    "        ]\n",
    "        \n",
    "        # Add list object to the row if matches are found\n",
    "        row_data['otherReferrals'] = otherReferrals.to_dict(orient='records')\n",
    "    else:\n",
    "        # Add an empty list if no matches\n",
    "        row_data['otherReferrals'] = []\n",
    "    \n",
    "    # Append to the final JSON structure\n",
    "    json_data.append(row_data)\n",
    "\n",
    "# Convert to JSON\n",
    "result_json = json.dumps(json_data, indent=4)\n",
    "\n",
    "output_file = \"data.json\"\n",
    "\n",
    "# Save the JSON data to the file\n",
    "with open(output_file, \"w\") as file:\n",
    "    json.dump(json_data, file, indent=4)\n",
    "\n",
    "# Print the JSON\n",
    "print(result_json)"
   ]
  }
 ],
 "metadata": {
  "kernelspec": {
   "display_name": "Python 3 (ipykernel)",
   "language": "python",
   "name": "python3"
  },
  "language_info": {
   "codemirror_mode": {
    "name": "ipython",
    "version": 3
   },
   "file_extension": ".py",
   "mimetype": "text/x-python",
   "name": "python",
   "nbconvert_exporter": "python",
   "pygments_lexer": "ipython3",
   "version": "3.12.7"
  }
 },
 "nbformat": 4,
 "nbformat_minor": 5
}
