{
 "cells": [
  {
   "cell_type": "code",
   "execution_count": null,
   "id": "05354aa1-7dab-4a33-828a-e4e2f2a0422a",
   "metadata": {},
   "outputs": [],
   "source": [
    "import pandas as pd\n",
    "import json\n",
    "\n",
    "# Load Excel sheets\n",
    "dashboard = pd.ExcelFile(\"data.xlsx\")\n",
    "data = pd.read_excel(dashboard, \"Statistics\")\n",
    "aes = pd.read_excel(dashboard, 'AEs')\n",
    "referrals = pd.read_excel(dashboard, 'Referrals')\n",
    "\n",
    "partnerDistricts =pd.read_excel(\"partnerDistrict.xlsx\")\n",
    "\n",
    "# Fill missing values and convert types\n",
    "data.fillna(0, inplace=True)\n",
    "aes.fillna(0, inplace=True)\n",
    "referrals.fillna(0, inplace=True)\n",
    "\n",
    "data['year'] = data['year'].astype(int)\n",
    "data['recordingMonth'] = data['recordingMonth'].astype(str)\n",
    "aes['AERecordingYear'] = aes['AERecordingYear'].astype(int)\n",
    "aes['AERecordingMonth'] = aes['AERecordingMonth'].astype(str)\n",
    "referrals['ReferrelRecordingYear'] = referrals['ReferrelRecordingYear'].astype(int)\n",
    "referrals['ReferrelRecordingMonth'] = referrals['ReferrelRecordingMonth'].astype(str)\n",
    "\n",
    "\n",
    "\n",
    "\n",
    "# Process rows and build JSON\n",
    "def process_row(row):\n",
    "    row_data = row.to_dict()\n",
    "    if int(pd.to_numeric(row.get('totalAES', 0), errors='coerce')) > 0:\n",
    "        recordedAEs = aes[\n",
    "            (aes['AERecordingSite'] == row['facilityName']) &\n",
    "            (aes['AERecordingMonth'] == row['recordingMonth']) &\n",
    "            (aes['AERecordingYear'] == row['year'])\n",
    "        ]\n",
    "\n",
    "        recordedAEs = recordedAEs[recordedAEs['ae_classification']!=0]\n",
    "\n",
    "        row_data['matchingAES'] = recordedAEs.to_dict(orient='records')\n",
    "    else:\n",
    "        row_data['matchingAES'] = []\n",
    "            \n",
    "    if int(pd.to_numeric(row.get('referralToOtherServices', 0), errors='coerce')) > 0:\n",
    "        otherReferrals = referrals[\n",
    "            (referrals['ReferrelRecordingSite'] == row['facilityName']) &\n",
    "            (referrals['ReferrelRecordingMonth'] == row['recordingMonth']) &\n",
    "            (referrals['ReferrelRecordingYear'] == row['year'])\n",
    "        ]\n",
    "\n",
    "        otherReferrals = otherReferrals[otherReferrals['services_referred']!=0]\n",
    "        # print(otherReferrals)\n",
    "        row_data['otherReferrals'] = otherReferrals.to_dict(orient='records')\n",
    "    else:\n",
    "        print(\"no data\")\n",
    "        row_data['otherReferrals'] = []\n",
    "\n",
    "    return row_data\n",
    "\n",
    "partner_lookup = dict(zip(partnerDistricts['DISTRICT'], partnerDistricts['PARTNER']))\n",
    "\n",
    "data['Partner'] = data['District'].map(partner_lookup)\n",
    "\n",
    "\n",
    "json_data = data.apply(process_row, axis=1).tolist()\n",
    "\n",
    "# Save to JSON\n",
    "output_file = \"data.json\"\n",
    "with open(output_file, \"w\") as file:\n",
    "    json.dump(json_data, file, indent=4)\n",
    "\n",
    "# Print the JSON\n",
    "print(json.dumps(json_data, indent=4))\n",
    "\n"
   ]
  },
  {
   "cell_type": "code",
   "execution_count": null,
   "id": "d832cd9b-a598-4eab-96f4-9fae55a2f74a",
   "metadata": {
    "scrolled": true
   },
   "outputs": [],
   "source": [
    "data"
   ]
  },
  {
   "cell_type": "code",
   "execution_count": null,
   "id": "298c3871-01b3-4d5c-a9ce-1e0d7fbe5cd4",
   "metadata": {},
   "outputs": [],
   "source": []
  }
 ],
 "metadata": {
  "kernelspec": {
   "display_name": "Python 3 (ipykernel)",
   "language": "python",
   "name": "python3"
  },
  "language_info": {
   "codemirror_mode": {
    "name": "ipython",
    "version": 3
   },
   "file_extension": ".py",
   "mimetype": "text/x-python",
   "name": "python",
   "nbconvert_exporter": "python",
   "pygments_lexer": "ipython3",
   "version": "3.12.7"
  }
 },
 "nbformat": 4,
 "nbformat_minor": 5
}
