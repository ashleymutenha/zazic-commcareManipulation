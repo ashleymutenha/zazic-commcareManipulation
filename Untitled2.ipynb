{
 "cells": [
  {
   "cell_type": "code",
   "execution_count": 6,
   "id": "bf459bca-3f74-4e5c-a22e-8b7a0abb7bbe",
   "metadata": {},
   "outputs": [
    {
     "name": "stdout",
     "output_type": "stream",
     "text": [
      "Staging all changes...\n",
      "Error: 'git' is not recognized as an internal or external command,\n",
      "operable program or batch file.\n",
      "Committing changes...\n",
      "Error: 'git' is not recognized as an internal or external command,\n",
      "operable program or batch file.\n",
      "Pushing to remote repository...\n",
      "Error: 'git' is not recognized as an internal or external command,\n",
      "operable program or batch file.\n"
     ]
    }
   ],
   "source": [
    "import subprocess\n",
    "\n",
    "def run_command(command, cwd=None):\n",
    "    \"\"\"Run a shell command and return its output.\"\"\"\n",
    "    try:\n",
    "        result = subprocess.run(\n",
    "            command,\n",
    "            shell=True,\n",
    "            cwd=cwd,\n",
    "            text=True,\n",
    "            check=True,\n",
    "            stdout=subprocess.PIPE,\n",
    "            stderr=subprocess.PIPE\n",
    "        )\n",
    "        return result.stdout.strip()\n",
    "    except subprocess.CalledProcessError as e:\n",
    "        print(f\"Error: {e.stderr.strip()}\")\n",
    "        return None\n",
    "\n",
    "def push_to_git(repo_path, commit_message):\n",
    "    \"\"\"\n",
    "    Push changes to a Git repository.\n",
    "\n",
    "    Parameters:\n",
    "    - repo_path (str): The path to the Git repository.\n",
    "    - commit_message (str): The commit message for the changes.\n",
    "    \"\"\"\n",
    "    print(\"Staging all changes...\")\n",
    "    if run_command(\"git add .\", cwd=repo_path) is not None:\n",
    "        print(\"Changes staged successfully.\")\n",
    "\n",
    "    print(\"Committing changes...\")\n",
    "    if run_command(f'git commit -m \"{commit_message}\"', cwd=repo_path) is not None:\n",
    "        print(\"Changes committed successfully.\")\n",
    "\n",
    "    print(\"Pushing to remote repository...\")\n",
    "    if run_command(\"git push\", cwd=repo_path) is not None:\n",
    "        print(\"Changes pushed to remote repository successfully.\")\n",
    "\n",
    "if __name__ == \"__main__\":\n",
    "    # Path to your Git repository\n",
    "    repo_path = r\"C:\\Users\\AshleyMutenha\\Desktop\\ZAZIC-dashboard\\commcareManipulation\"\n",
    "\n",
    "    # Commit message\n",
    "    commit_message = \"Updated scripts and configurations\"\n",
    "\n",
    "    # Push changes to Git\n",
    "    push_to_git(repo_path, commit_message)\n"
   ]
  },
  {
   "cell_type": "code",
   "execution_count": null,
   "id": "0fe5d647-beae-4d2e-bbff-3e0e1dc4e629",
   "metadata": {},
   "outputs": [],
   "source": []
  }
 ],
 "metadata": {
  "kernelspec": {
   "display_name": "Python 3 (ipykernel)",
   "language": "python",
   "name": "python3"
  },
  "language_info": {
   "codemirror_mode": {
    "name": "ipython",
    "version": 3
   },
   "file_extension": ".py",
   "mimetype": "text/x-python",
   "name": "python",
   "nbconvert_exporter": "python",
   "pygments_lexer": "ipython3",
   "version": "3.12.7"
  }
 },
 "nbformat": 4,
 "nbformat_minor": 5
}
