{
 "cells": [
  {
   "cell_type": "code",
   "execution_count": null,
   "id": "4f31d1b1-cc9f-42fa-bf4f-4f29bca82616",
   "metadata": {},
   "outputs": [],
   "source": []
  }
 ],
 "metadata": {
  "kernelspec": {
   "display_name": "",
   "name": ""
  },
  "language_info": {
   "name": ""
  }
 },
 "nbformat": 4,
 "nbformat_minor": 5
}
